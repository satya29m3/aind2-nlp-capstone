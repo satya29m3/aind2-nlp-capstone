{
  "nbformat": 4,
  "nbformat_minor": 0,
  "metadata": {
    "colab": {
      "name": "NMT_project.ipynb",
      "provenance": [],
      "collapsed_sections": [],
      "machine_shape": "hm"
    },
    "kernelspec": {
      "name": "python3",
      "display_name": "Python 3"
    },
    "accelerator": "GPU"
  },
  "cells": [
    {
      "cell_type": "code",
      "metadata": {
        "id": "0yJ3zM1etw4U",
        "colab_type": "code",
        "colab": {}
      },
      "source": [
        "import pandas as pd\n",
        "import numpy as np\n",
        "from collections import Counter\n",
        "from tensorflow.keras.preprocessing.text import Tokenizer\n",
        "from tensorflow.keras.preprocessing.sequence import pad_sequences\n",
        "from tensorflow.keras.layers import Dense, GRU, TimeDistributed, Input, Embedding, Dropout, Bidirectional, RepeatVector\n",
        "from tensorflow.keras.models import Model, Sequential\n",
        "from tensorflow.keras.optimizers import Adam\n",
        "from tensorflow.keras.losses import sparse_categorical_crossentropy\n",
        "from tensorflow.keras.regularizers import l2"
      ],
      "execution_count": 0,
      "outputs": []
    },
    {
      "cell_type": "code",
      "metadata": {
        "id": "BVFA2W9Eur0Z",
        "colab_type": "code",
        "colab": {}
      },
      "source": [
        "def helper(file_path):\n",
        "  with open(file_path) as f:\n",
        "    data = f.read()\n",
        "    return data.split('\\n')"
      ],
      "execution_count": 0,
      "outputs": []
    },
    {
      "cell_type": "code",
      "metadata": {
        "id": "PKzzeMYEvERS",
        "colab_type": "code",
        "colab": {}
      },
      "source": [
        "english_data = helper('/content/small_vocab_en')\n",
        "french_data = helper('/content/small_vocab_fr')"
      ],
      "execution_count": 0,
      "outputs": []
    },
    {
      "cell_type": "code",
      "metadata": {
        "id": "pzTqvHRDvqRU",
        "colab_type": "code",
        "outputId": "156ddf1e-0119-4d29-e876-8b847329c255",
        "colab": {
          "base_uri": "https://localhost:8080/",
          "height": 74
        }
      },
      "source": [
        "print('english :{} \\n french translation: {}'.format(english_data[0],french_data[0]))"
      ],
      "execution_count": 5,
      "outputs": [
        {
          "output_type": "stream",
          "text": [
            "english :new jersey is sometimes quiet during autumn , and it is snowy in april . \n",
            " french translation: new jersey est parfois calme pendant l' automne , et il est neigeux en avril .\n"
          ],
          "name": "stdout"
        }
      ]
    },
    {
      "cell_type": "code",
      "metadata": {
        "id": "ad2wgHfdvslS",
        "colab_type": "code",
        "colab": {}
      },
      "source": [
        "counter_english = Counter([w for sentences in english_data for w in sentences.split()])\n",
        "counter_french = Counter([w for sentences in french_data for w in sentences.split()])\n"
      ],
      "execution_count": 0,
      "outputs": []
    },
    {
      "cell_type": "code",
      "metadata": {
        "id": "x6fl7HJTxl-D",
        "colab_type": "code",
        "outputId": "ba979d45-67f0-45a7-f595-6778039043e4",
        "colab": {
          "base_uri": "https://localhost:8080/",
          "height": 90
        }
      },
      "source": [
        "print('unique english words: {}'.format(len(counter_english)))\n",
        "print('english words: {}'.format(len([w for sentences in english_data for w in sentences.split()])))\n",
        "print('unique french words: {}'.format(len(counter_french)))\n",
        "print('french words: {}'.format(len([w for sentences in french_data for w in sentences.split()])))\n"
      ],
      "execution_count": 7,
      "outputs": [
        {
          "output_type": "stream",
          "text": [
            "unique english words: 227\n",
            "english words: 1823250\n",
            "unique french words: 355\n",
            "french words: 1961295\n"
          ],
          "name": "stdout"
        }
      ]
    },
    {
      "cell_type": "code",
      "metadata": {
        "id": "8k7qo4hmzQq0",
        "colab_type": "code",
        "colab": {}
      },
      "source": [
        "def token(x):\n",
        "  tokenizer = Tokenizer()\n",
        "  tokenizer.fit_on_texts(x)\n",
        "  return tokenizer.texts_to_sequences(x), tokenizer\n",
        "\n",
        "\n",
        "def pad(x,length=None):\n",
        "  if length==None:\n",
        "    length = np.max([len(i) for i in x])\n",
        "  return pad_sequences(x, maxlen=length, padding='post')\n",
        "\n",
        "def preprocess(x,y):\n",
        "  x_tokenized, x_tok = token(x)\n",
        "  y_tokenized, y_tok = token(y)\n",
        "\n",
        "  x_padded = pad(x_tokenized)\n",
        "  y_padded = pad(y_tokenized)\n",
        "\n",
        "  y_padded = y_padded.reshape(*y_padded.shape,1)\n",
        "  return x_padded, x_tok, y_padded, y_tok"
      ],
      "execution_count": 0,
      "outputs": []
    },
    {
      "cell_type": "code",
      "metadata": {
        "id": "YBndFyTv2e3J",
        "colab_type": "code",
        "colab": {}
      },
      "source": [
        "prepoc_x_sent, x_tokenizer, prepoc_y_sent, y_tokenizer = preprocess(english_data, french_data)"
      ],
      "execution_count": 0,
      "outputs": []
    },
    {
      "cell_type": "code",
      "metadata": {
        "id": "nc0eNWRc3IsU",
        "colab_type": "code",
        "colab": {}
      },
      "source": [
        "def logits_to_words(output,tokenizer):\n",
        "  id2word = {i:w for (w,i) in tokenizer.word_index.items()}\n",
        "  id2word[0] = '<PAD>'\n",
        "  value = [np.argmax(i) for i in output]\n",
        "  seq = [id2word[i] for i in value]\n",
        "  return ' '.join(seq)"
      ],
      "execution_count": 0,
      "outputs": []
    },
    {
      "cell_type": "code",
      "metadata": {
        "id": "oCZAHyaTZdSf",
        "colab_type": "code",
        "colab": {}
      },
      "source": [
        "english_vocab_size = len(x_tokenizer.word_index)\n",
        "french_vocab_size = len(y_tokenizer.word_index)"
      ],
      "execution_count": 0,
      "outputs": []
    },
    {
      "cell_type": "code",
      "metadata": {
        "id": "bdVhshmh3ojp",
        "colab_type": "code",
        "colab": {}
      },
      "source": [
        "#### BASIC RNN MODEL ####\n",
        "def simple_model(input_shape,french_vocab_size):\n",
        "  lr = 1e-3\n",
        "  input_seq = Input(input_shape[1:])\n",
        "  rnn = GRU(256,return_sequences=True)(input_seq)\n",
        "  rnn2 = GRU(128,return_sequences=True)(rnn)\n",
        "  logits = TimeDistributed(Dense(french_vocab_size, activation='softmax'))(rnn2)\n",
        "  model = Model(input_seq, logits)\n",
        "  model.compile(loss=sparse_categorical_crossentropy,\n",
        "                optimizer=Adam(lr),\n",
        "                metrics=['acc'])\n",
        "  return model"
      ],
      "execution_count": 0,
      "outputs": []
    },
    {
      "cell_type": "code",
      "metadata": {
        "id": "JIHSwryrAxIY",
        "colab_type": "code",
        "colab": {}
      },
      "source": [
        "prepoc_x_sent = pad(prepoc_x_sent,length=prepoc_y_sent.shape[1])\n",
        "prepoc_x_sent = prepoc_x_sent.reshape(-1,prepoc_x_sent.shape[1],1)"
      ],
      "execution_count": 0,
      "outputs": []
    },
    {
      "cell_type": "code",
      "metadata": {
        "id": "urvX4rDQACfu",
        "colab_type": "code",
        "outputId": "988d445b-a1b5-4871-e55f-a9150a333364",
        "colab": {
          "base_uri": "https://localhost:8080/",
          "height": 35
        }
      },
      "source": [
        "prepoc_x_sent.shape"
      ],
      "execution_count": 16,
      "outputs": [
        {
          "output_type": "execute_result",
          "data": {
            "text/plain": [
              "(137861, 21, 1)"
            ]
          },
          "metadata": {
            "tags": []
          },
          "execution_count": 16
        }
      ]
    },
    {
      "cell_type": "code",
      "metadata": {
        "id": "nOi8SMUHASca",
        "colab_type": "code",
        "outputId": "21a7d8f2-4bf7-4e2a-9ba7-05c42908a166",
        "colab": {
          "base_uri": "https://localhost:8080/",
          "height": 35
        }
      },
      "source": [
        "prepoc_y_sent.shape"
      ],
      "execution_count": 17,
      "outputs": [
        {
          "output_type": "execute_result",
          "data": {
            "text/plain": [
              "(137861, 21, 1)"
            ]
          },
          "metadata": {
            "tags": []
          },
          "execution_count": 17
        }
      ]
    },
    {
      "cell_type": "code",
      "metadata": {
        "id": "f7vSrk3RA-qt",
        "colab_type": "code",
        "outputId": "86c70011-30f7-479f-afa5-16d0d512179f",
        "colab": {
          "base_uri": "https://localhost:8080/",
          "height": 308
        }
      },
      "source": [
        "simple_rnn_model = simple_model(input_shape=prepoc_x_sent.shape,french_vocab_size=len(y_tokenizer.word_index))\n",
        "simple_rnn_model.summary()"
      ],
      "execution_count": 24,
      "outputs": [
        {
          "output_type": "stream",
          "text": [
            "Model: \"model_1\"\n",
            "_________________________________________________________________\n",
            "Layer (type)                 Output Shape              Param #   \n",
            "=================================================================\n",
            "input_2 (InputLayer)         [(None, 21, 1)]           0         \n",
            "_________________________________________________________________\n",
            "gru_1 (GRU)                  (None, 21, 256)           198912    \n",
            "_________________________________________________________________\n",
            "gru_2 (GRU)                  (None, 21, 128)           148224    \n",
            "_________________________________________________________________\n",
            "time_distributed_1 (TimeDist (None, 21, 344)           44376     \n",
            "=================================================================\n",
            "Total params: 391,512\n",
            "Trainable params: 391,512\n",
            "Non-trainable params: 0\n",
            "_________________________________________________________________\n"
          ],
          "name": "stdout"
        }
      ]
    },
    {
      "cell_type": "code",
      "metadata": {
        "id": "z6bNFNpGBgpr",
        "colab_type": "code",
        "outputId": "7964cf5c-92d0-4cda-b56c-5a66b4995cc2",
        "colab": {
          "base_uri": "https://localhost:8080/",
          "height": 419
        }
      },
      "source": [
        "simple_rnn_model.fit(prepoc_x_sent,prepoc_y_sent, batch_size=1024, epochs=10, validation_split=0.2)"
      ],
      "execution_count": 116,
      "outputs": [
        {
          "output_type": "stream",
          "text": [
            "Epoch 1/10\n",
            "108/108 [==============================] - 8s 71ms/step - loss: 0.9269 - acc: 0.7229 - val_loss: nan - val_acc: 0.7332\n",
            "Epoch 2/10\n",
            "108/108 [==============================] - 8s 71ms/step - loss: 0.9009 - acc: 0.7293 - val_loss: nan - val_acc: 0.7336\n",
            "Epoch 3/10\n",
            "108/108 [==============================] - 8s 71ms/step - loss: 0.8637 - acc: 0.7404 - val_loss: nan - val_acc: 0.7460\n",
            "Epoch 4/10\n",
            "108/108 [==============================] - 8s 70ms/step - loss: 0.8406 - acc: 0.7462 - val_loss: nan - val_acc: 0.7492\n",
            "Epoch 5/10\n",
            "108/108 [==============================] - 8s 71ms/step - loss: 0.8253 - acc: 0.7489 - val_loss: nan - val_acc: 0.7518\n",
            "Epoch 6/10\n",
            "108/108 [==============================] - 8s 72ms/step - loss: 0.8001 - acc: 0.7569 - val_loss: nan - val_acc: 0.7585\n",
            "Epoch 7/10\n",
            "108/108 [==============================] - 8s 71ms/step - loss: 0.7831 - acc: 0.7618 - val_loss: nan - val_acc: 0.7633\n",
            "Epoch 8/10\n",
            "108/108 [==============================] - 8s 72ms/step - loss: 0.7667 - acc: 0.7670 - val_loss: nan - val_acc: 0.7708\n",
            "Epoch 9/10\n",
            "108/108 [==============================] - 8s 72ms/step - loss: 0.7534 - acc: 0.7700 - val_loss: nan - val_acc: 0.7769\n",
            "Epoch 10/10\n",
            "108/108 [==============================] - 8s 71ms/step - loss: 0.7396 - acc: 0.7741 - val_loss: nan - val_acc: 0.7814\n"
          ],
          "name": "stdout"
        },
        {
          "output_type": "execute_result",
          "data": {
            "text/plain": [
              "<tensorflow.python.keras.callbacks.History at 0x7f211a13d0f0>"
            ]
          },
          "metadata": {
            "tags": []
          },
          "execution_count": 116
        }
      ]
    },
    {
      "cell_type": "code",
      "metadata": {
        "id": "XJAKrdfPVqiq",
        "colab_type": "code",
        "colab": {}
      },
      "source": [
        "#### EMBEDDING MODEL #####\n",
        "def embed_model(input_shape, english_vocab_size, french_vocab_size, output_length):\n",
        "  # input_seq = Input(input_shape[1])\n",
        "  # embedding= Embedding(english_vocab_size,64,input_length=output_length)(input_seq)\n",
        "  # rnn = GRU(64,return_sequences=True)(embedding)\n",
        "  # logits = TimeDistributed(Dense(french_vocab_size,activation='softmax'))(rnn)\n",
        "  # model = Model(embedding,logits)\n",
        "\n",
        "  model = Sequential()\n",
        "  model.add(Embedding(english_vocab_size + 1,64,input_length=output_length,input_shape=input_shape[1:]))\n",
        "  model.add(GRU(512,return_sequences=True))\n",
        "  model.add(Dropout(0.4))\n",
        "  model.add(GRU(512,return_sequences=True,kernel_regularizer=l2(0.01)))\n",
        "  model.add(TimeDistributed(Dense(512,activation='relu')))\n",
        "  model.add(TimeDistributed(Dense(french_vocab_size+1,activation='softmax')))\n",
        "\n",
        "\n",
        "\n",
        "  lr = 1e-3\n",
        "\n",
        "  model.compile(loss=sparse_categorical_crossentropy,optimizer=Adam(lr),metrics=['acc'])\n",
        "  model.summary()\n",
        "  return model"
      ],
      "execution_count": 0,
      "outputs": []
    },
    {
      "cell_type": "code",
      "metadata": {
        "id": "pQgHbydDf3NV",
        "colab_type": "code",
        "colab": {}
      },
      "source": [
        "new_prepoc_x_sent = prepoc_x_sent.reshape(-1,prepoc_x_sent.shape[1])"
      ],
      "execution_count": 0,
      "outputs": []
    },
    {
      "cell_type": "code",
      "metadata": {
        "id": "3NQn25dAYu3E",
        "colab_type": "code",
        "colab": {
          "base_uri": "https://localhost:8080/",
          "height": 381
        },
        "outputId": "9bc7d57d-d8e0-40f4-c3e5-335dcd2a0b6f"
      },
      "source": [
        "embedding_model = embed_model(new_prepoc_x_sent.shape,english_vocab_size,french_vocab_size,new_prepoc_x_sent.shape[1])"
      ],
      "execution_count": 119,
      "outputs": [
        {
          "output_type": "stream",
          "text": [
            "Model: \"sequential_15\"\n",
            "_________________________________________________________________\n",
            "Layer (type)                 Output Shape              Param #   \n",
            "=================================================================\n",
            "embedding_16 (Embedding)     (None, 21, 64)            12800     \n",
            "_________________________________________________________________\n",
            "gru_26 (GRU)                 (None, 21, 512)           887808    \n",
            "_________________________________________________________________\n",
            "dropout_9 (Dropout)          (None, 21, 512)           0         \n",
            "_________________________________________________________________\n",
            "gru_27 (GRU)                 (None, 21, 512)           1575936   \n",
            "_________________________________________________________________\n",
            "time_distributed_19 (TimeDis (None, 21, 512)           262656    \n",
            "_________________________________________________________________\n",
            "time_distributed_20 (TimeDis (None, 21, 345)           176985    \n",
            "=================================================================\n",
            "Total params: 2,916,185\n",
            "Trainable params: 2,916,185\n",
            "Non-trainable params: 0\n",
            "_________________________________________________________________\n"
          ],
          "name": "stdout"
        }
      ]
    },
    {
      "cell_type": "code",
      "metadata": {
        "id": "ri4VSnSobLuJ",
        "colab_type": "code",
        "colab": {
          "base_uri": "https://localhost:8080/",
          "height": 419
        },
        "outputId": "a9440c5c-0062-45a9-80eb-7da9b9893d06"
      },
      "source": [
        "embedding_model.fit(new_prepoc_x_sent,prepoc_y_sent,epochs=10,batch_size=1024,validation_split=0.2)"
      ],
      "execution_count": 120,
      "outputs": [
        {
          "output_type": "stream",
          "text": [
            "Epoch 1/10\n",
            "108/108 [==============================] - 28s 261ms/step - loss: 4.0457 - acc: 0.4467 - val_loss: 2.0311 - val_acc: 0.5245\n",
            "Epoch 2/10\n",
            "108/108 [==============================] - 28s 257ms/step - loss: 1.5741 - acc: 0.5969 - val_loss: 1.2844 - val_acc: 0.6591\n",
            "Epoch 3/10\n",
            "108/108 [==============================] - 28s 255ms/step - loss: 1.1142 - acc: 0.6944 - val_loss: 0.9653 - val_acc: 0.7414\n",
            "Epoch 4/10\n",
            "108/108 [==============================] - 28s 256ms/step - loss: 0.8704 - acc: 0.7598 - val_loss: 0.7590 - val_acc: 0.7854\n",
            "Epoch 5/10\n",
            "108/108 [==============================] - 28s 257ms/step - loss: 0.7017 - acc: 0.8017 - val_loss: 0.6162 - val_acc: 0.8249\n",
            "Epoch 6/10\n",
            "108/108 [==============================] - 28s 258ms/step - loss: 0.5824 - acc: 0.8339 - val_loss: 0.5314 - val_acc: 0.8483\n",
            "Epoch 7/10\n",
            "108/108 [==============================] - 28s 255ms/step - loss: 0.5004 - acc: 0.8553 - val_loss: 0.4699 - val_acc: 0.8650\n",
            "Epoch 8/10\n",
            "108/108 [==============================] - 28s 257ms/step - loss: 0.4461 - acc: 0.8698 - val_loss: 0.4100 - val_acc: 0.8806\n",
            "Epoch 9/10\n",
            "108/108 [==============================] - 28s 256ms/step - loss: 0.4091 - acc: 0.8786 - val_loss: 0.3787 - val_acc: 0.8863\n",
            "Epoch 10/10\n",
            "108/108 [==============================] - 28s 258ms/step - loss: 0.3748 - acc: 0.8871 - val_loss: 0.3569 - val_acc: 0.8924\n"
          ],
          "name": "stdout"
        },
        {
          "output_type": "execute_result",
          "data": {
            "text/plain": [
              "<tensorflow.python.keras.callbacks.History at 0x7f211970e390>"
            ]
          },
          "metadata": {
            "tags": []
          },
          "execution_count": 120
        }
      ]
    },
    {
      "cell_type": "code",
      "metadata": {
        "id": "6C-ufKjxj0K4",
        "colab_type": "code",
        "colab": {}
      },
      "source": [
        "### BIDIRECTIONAL RNN ####\n",
        "def bidirect_model(input_shape, english_vocab_size, french_vocab_size, output_length):\n",
        "  model = Sequential()\n",
        "  model.add(Input(input_shape[1:]))\n",
        "  model.add(Embedding(english_vocab_size+1, 200, input_length = output_length))\n",
        "  model.add(Bidirectional(GRU(512,return_sequences=True)))\n",
        "  model.add(Dropout(0.5))\n",
        "  model.add(Bidirectional(GRU(64,return_sequences=True)))\n",
        "  model.add(TimeDistributed(Dense(1024,activation='sigmoid')))\n",
        "  model.add(Dropout(0.5))\n",
        "  model.add(TimeDistributed(Dense(french_vocab_size+1,activation='softmax')))\n",
        "\n",
        "  model.compile(loss=sparse_categorical_crossentropy,\n",
        "                optimizer= Adam(0.003),\n",
        "                metrics=['acc'])\n",
        "  model.summary()\n",
        "  return model"
      ],
      "execution_count": 0,
      "outputs": []
    },
    {
      "cell_type": "code",
      "metadata": {
        "id": "5CTd4YLOngVL",
        "colab_type": "code",
        "colab": {
          "base_uri": "https://localhost:8080/",
          "height": 417
        },
        "outputId": "acc91f5c-603e-4a63-d207-fb215810ad70"
      },
      "source": [
        "bi_model = bidirect_model(new_prepoc_x_sent.shape, english_vocab_size, french_vocab_size, new_prepoc_x_sent.shape[1])"
      ],
      "execution_count": 122,
      "outputs": [
        {
          "output_type": "stream",
          "text": [
            "Model: \"sequential_16\"\n",
            "_________________________________________________________________\n",
            "Layer (type)                 Output Shape              Param #   \n",
            "=================================================================\n",
            "embedding_17 (Embedding)     (None, 21, 200)           40000     \n",
            "_________________________________________________________________\n",
            "bidirectional_8 (Bidirection (None, 21, 1024)          2193408   \n",
            "_________________________________________________________________\n",
            "dropout_10 (Dropout)         (None, 21, 1024)          0         \n",
            "_________________________________________________________________\n",
            "bidirectional_9 (Bidirection (None, 21, 128)           418560    \n",
            "_________________________________________________________________\n",
            "time_distributed_21 (TimeDis (None, 21, 1024)          132096    \n",
            "_________________________________________________________________\n",
            "dropout_11 (Dropout)         (None, 21, 1024)          0         \n",
            "_________________________________________________________________\n",
            "time_distributed_22 (TimeDis (None, 21, 345)           353625    \n",
            "=================================================================\n",
            "Total params: 3,137,689\n",
            "Trainable params: 3,137,689\n",
            "Non-trainable params: 0\n",
            "_________________________________________________________________\n"
          ],
          "name": "stdout"
        }
      ]
    },
    {
      "cell_type": "code",
      "metadata": {
        "id": "tBU00ld4nweC",
        "colab_type": "code",
        "colab": {
          "base_uri": "https://localhost:8080/",
          "height": 419
        },
        "outputId": "a90a116c-58b6-4685-e048-60dd4800620e"
      },
      "source": [
        "bi_model.fit(new_prepoc_x_sent,prepoc_y_sent,epochs=10,batch_size=1024,validation_split=0.2)"
      ],
      "execution_count": 123,
      "outputs": [
        {
          "output_type": "stream",
          "text": [
            "Epoch 1/10\n",
            "108/108 [==============================] - 38s 354ms/step - loss: 2.2369 - acc: 0.5271 - val_loss: 1.2376 - val_acc: 0.6800\n",
            "Epoch 2/10\n",
            "108/108 [==============================] - 37s 339ms/step - loss: 0.9880 - acc: 0.7358 - val_loss: 0.6805 - val_acc: 0.8126\n",
            "Epoch 3/10\n",
            "108/108 [==============================] - 37s 340ms/step - loss: 0.5900 - acc: 0.8394 - val_loss: 0.4001 - val_acc: 0.8935\n",
            "Epoch 4/10\n",
            "108/108 [==============================] - 37s 340ms/step - loss: 0.3852 - acc: 0.8950 - val_loss: 0.2731 - val_acc: 0.9245\n",
            "Epoch 5/10\n",
            "108/108 [==============================] - 37s 340ms/step - loss: 0.2753 - acc: 0.9226 - val_loss: 0.1976 - val_acc: 0.9439\n",
            "Epoch 6/10\n",
            "108/108 [==============================] - 37s 340ms/step - loss: 0.2128 - acc: 0.9397 - val_loss: 0.1593 - val_acc: 0.9563\n",
            "Epoch 7/10\n",
            "108/108 [==============================] - 37s 340ms/step - loss: 0.1718 - acc: 0.9515 - val_loss: 0.1262 - val_acc: 0.9657\n",
            "Epoch 8/10\n",
            "108/108 [==============================] - 37s 340ms/step - loss: 0.1410 - acc: 0.9606 - val_loss: 0.1066 - val_acc: 0.9707\n",
            "Epoch 9/10\n",
            "108/108 [==============================] - 37s 340ms/step - loss: 0.1194 - acc: 0.9666 - val_loss: 0.0961 - val_acc: 0.9749\n",
            "Epoch 10/10\n",
            "108/108 [==============================] - 37s 341ms/step - loss: 0.1047 - acc: 0.9708 - val_loss: 0.0872 - val_acc: 0.9768\n"
          ],
          "name": "stdout"
        },
        {
          "output_type": "execute_result",
          "data": {
            "text/plain": [
              "<tensorflow.python.keras.callbacks.History at 0x7f2117a94198>"
            ]
          },
          "metadata": {
            "tags": []
          },
          "execution_count": 123
        }
      ]
    },
    {
      "cell_type": "code",
      "metadata": {
        "id": "MuECAAuc43Js",
        "colab_type": "code",
        "colab": {}
      },
      "source": [
        "def encoder_decoder(input_shape,english_vocab_size,french_vocab_size,output_length):\n",
        "  learning_rate = 0.01\n",
        "  latent_dim = 128\n",
        "  \n",
        "  #Config Model\n",
        "  inputs = Input(shape=input_shape[1:])\n",
        "  embedding_layer = Embedding(input_dim=english_vocab_size+1,\n",
        "                              output_dim=output_length,\n",
        "                              mask_zero=False)(inputs)\n",
        "  bd_layer = Bidirectional(GRU(output_length))(embedding_layer)\n",
        "  encoding_layer = Dense(latent_dim, activation='relu')(bd_layer)\n",
        "  decoding_layer = RepeatVector(output_length)(encoding_layer)\n",
        "  output_layer = Bidirectional(GRU(latent_dim, return_sequences=True))(decoding_layer)\n",
        "  outputs = TimeDistributed(Dense(french_vocab_size+1, activation='softmax'))(output_layer)\n",
        "  \n",
        "  #Create Model from parameters defined above\n",
        "  model = Model(inputs=inputs, outputs=outputs)\n",
        "  model.compile(loss=sparse_categorical_crossentropy,\n",
        "                optimizer=Adam(learning_rate),\n",
        "                metrics=['accuracy'])\n",
        "  model.summary()\n",
        "  return model"
      ],
      "execution_count": 0,
      "outputs": []
    },
    {
      "cell_type": "code",
      "metadata": {
        "id": "z5b4yQuHQZ8p",
        "colab_type": "code",
        "colab": {
          "base_uri": "https://localhost:8080/",
          "height": 417
        },
        "outputId": "ece73ca4-fb0e-4f22-f480-7c1c44cf09ff"
      },
      "source": [
        "enc_dec_model = encoder_decoder(new_prepoc_x_sent.shape,english_vocab_size,french_vocab_size,21)"
      ],
      "execution_count": 208,
      "outputs": [
        {
          "output_type": "stream",
          "text": [
            "Model: \"model_16\"\n",
            "_________________________________________________________________\n",
            "Layer (type)                 Output Shape              Param #   \n",
            "=================================================================\n",
            "input_29 (InputLayer)        [(None, 21)]              0         \n",
            "_________________________________________________________________\n",
            "embedding_36 (Embedding)     (None, 21, 21)            4200      \n",
            "_________________________________________________________________\n",
            "bidirectional_32 (Bidirectio (None, 42)                5544      \n",
            "_________________________________________________________________\n",
            "dense_52 (Dense)             (None, 128)               5504      \n",
            "_________________________________________________________________\n",
            "repeat_vector_14 (RepeatVect (None, 21, 128)           0         \n",
            "_________________________________________________________________\n",
            "bidirectional_33 (Bidirectio (None, 21, 256)           198144    \n",
            "_________________________________________________________________\n",
            "time_distributed_37 (TimeDis (None, 21, 345)           88665     \n",
            "=================================================================\n",
            "Total params: 302,057\n",
            "Trainable params: 302,057\n",
            "Non-trainable params: 0\n",
            "_________________________________________________________________\n"
          ],
          "name": "stdout"
        }
      ]
    },
    {
      "cell_type": "code",
      "metadata": {
        "id": "WdSCOZwoRpoY",
        "colab_type": "code",
        "colab": {
          "base_uri": "https://localhost:8080/",
          "height": 419
        },
        "outputId": "19233fcb-838c-4e2a-80ae-a7ee8cf92ca4"
      },
      "source": [
        "enc_dec_model.fit(new_prepoc_x_sent,prepoc_y_sent,epochs=10,batch_size=1024,validation_split=0.2)"
      ],
      "execution_count": 209,
      "outputs": [
        {
          "output_type": "stream",
          "text": [
            "Epoch 1/10\n",
            "108/108 [==============================] - 9s 88ms/step - loss: 2.2532 - accuracy: 0.4997 - val_loss: 1.5236 - val_accuracy: 0.5877\n",
            "Epoch 2/10\n",
            "108/108 [==============================] - 8s 74ms/step - loss: 1.1995 - accuracy: 0.6654 - val_loss: 1.0006 - val_accuracy: 0.7109\n",
            "Epoch 3/10\n",
            "108/108 [==============================] - 8s 74ms/step - loss: 0.9194 - accuracy: 0.7261 - val_loss: 0.8203 - val_accuracy: 0.7479\n",
            "Epoch 4/10\n",
            "108/108 [==============================] - 8s 74ms/step - loss: 0.7496 - accuracy: 0.7674 - val_loss: 0.6561 - val_accuracy: 0.7964\n",
            "Epoch 5/10\n",
            "108/108 [==============================] - 8s 74ms/step - loss: 0.5847 - accuracy: 0.8165 - val_loss: 0.5582 - val_accuracy: 0.8255\n",
            "Epoch 6/10\n",
            "108/108 [==============================] - 8s 74ms/step - loss: 0.4758 - accuracy: 0.8486 - val_loss: 0.4086 - val_accuracy: 0.8713\n",
            "Epoch 7/10\n",
            "108/108 [==============================] - 8s 74ms/step - loss: 0.3878 - accuracy: 0.8785 - val_loss: 0.3327 - val_accuracy: 0.8968\n",
            "Epoch 8/10\n",
            "108/108 [==============================] - 8s 74ms/step - loss: 0.2940 - accuracy: 0.9102 - val_loss: 0.2885 - val_accuracy: 0.9131\n",
            "Epoch 9/10\n",
            "108/108 [==============================] - 8s 74ms/step - loss: 0.2532 - accuracy: 0.9230 - val_loss: 0.2332 - val_accuracy: 0.9295\n",
            "Epoch 10/10\n",
            "108/108 [==============================] - 8s 73ms/step - loss: 0.2249 - accuracy: 0.9310 - val_loss: 0.2252 - val_accuracy: 0.9312\n"
          ],
          "name": "stdout"
        },
        {
          "output_type": "execute_result",
          "data": {
            "text/plain": [
              "<tensorflow.python.keras.callbacks.History at 0x7f20f8cc4240>"
            ]
          },
          "metadata": {
            "tags": []
          },
          "execution_count": 209
        }
      ]
    },
    {
      "cell_type": "code",
      "metadata": {
        "id": "fQ8HwJ8_SDoY",
        "colab_type": "code",
        "colab": {
          "base_uri": "https://localhost:8080/",
          "height": 55
        },
        "outputId": "1f12db48-635c-438c-c8b3-e896a6996710"
      },
      "source": [
        "### enc dec model prediction ####\n",
        "print(logits_to_words(enc_dec_model.predict(new_prepoc_x_sent[:1])[0], y_tokenizer))"
      ],
      "execution_count": 210,
      "outputs": [
        {
          "output_type": "stream",
          "text": [
            "new jersey est parfois calme pendant l'automne automne il il neigeux en avril <PAD> <PAD> <PAD> <PAD> <PAD> <PAD> <PAD> <PAD>\n"
          ],
          "name": "stdout"
        }
      ]
    },
    {
      "cell_type": "code",
      "metadata": {
        "id": "QbY5liegr-LK",
        "colab_type": "code",
        "colab": {
          "base_uri": "https://localhost:8080/",
          "height": 55
        },
        "outputId": "cc0d76b3-3b6c-4f56-c9cc-1f842260ecec"
      },
      "source": [
        "#### BIDIRECTIONAL EMBEDDING MODEL ####\n",
        "print(logits_to_words(bi_model.predict(new_prepoc_x_sent[:1])[0], y_tokenizer))"
      ],
      "execution_count": 124,
      "outputs": [
        {
          "output_type": "stream",
          "text": [
            "new jersey est parfois calme pendant l' automne et il est neigeux en avril <PAD> <PAD> <PAD> <PAD> <PAD> <PAD> <PAD>\n"
          ],
          "name": "stdout"
        }
      ]
    },
    {
      "cell_type": "code",
      "metadata": {
        "id": "pl7scn5WoK63",
        "colab_type": "code",
        "colab": {
          "base_uri": "https://localhost:8080/",
          "height": 55
        },
        "outputId": "a7d6f26a-3ade-4052-b4c2-3690d4f33af4"
      },
      "source": [
        "###### SIMPLE RNN MODEL PREDICTION #######\n",
        "print(logits_to_words(simple_rnn_model.predict(prepoc_x_sent[:1])[0], y_tokenizer))"
      ],
      "execution_count": 125,
      "outputs": [
        {
          "output_type": "stream",
          "text": [
            "new jersey est parfois calme en l' et il est est neigeux en <PAD> <PAD> <PAD> <PAD> <PAD> <PAD> <PAD> <PAD>\n"
          ],
          "name": "stdout"
        }
      ]
    },
    {
      "cell_type": "code",
      "metadata": {
        "id": "XA68TB-GhTLf",
        "colab_type": "code",
        "colab": {
          "base_uri": "https://localhost:8080/",
          "height": 55
        },
        "outputId": "62305856-7257-4999-bedc-c235b8a37fbe"
      },
      "source": [
        "#### EMBEDDING MODEL PREDICTION ######\n",
        "print(logits_to_words(embedding_model.predict(new_prepoc_x_sent[:1])[0],y_tokenizer))"
      ],
      "execution_count": 126,
      "outputs": [
        {
          "output_type": "stream",
          "text": [
            "new jersey est parfois calme en l' et et il est en en froid <PAD> <PAD> <PAD> <PAD> <PAD> <PAD> <PAD>\n"
          ],
          "name": "stdout"
        }
      ]
    },
    {
      "cell_type": "code",
      "metadata": {
        "id": "tb7I8wg4h_TD",
        "colab_type": "code",
        "colab": {
          "base_uri": "https://localhost:8080/",
          "height": 35
        },
        "outputId": "74fb84d7-e0ba-4cd5-d32e-e0e9e6ac29d8"
      },
      "source": [
        "french_data[0]"
      ],
      "execution_count": 127,
      "outputs": [
        {
          "output_type": "execute_result",
          "data": {
            "text/plain": [
              "\"new jersey est parfois calme pendant l' automne , et il est neigeux en avril .\""
            ]
          },
          "metadata": {
            "tags": []
          },
          "execution_count": 127
        }
      ]
    },
    {
      "cell_type": "code",
      "metadata": {
        "id": "48BZU6w0ioIB",
        "colab_type": "code",
        "colab": {
          "base_uri": "https://localhost:8080/",
          "height": 35
        },
        "outputId": "c2b5ef1f-61a3-48b8-a68d-4d8b4a8a89fa"
      },
      "source": [
        "english_data[0]"
      ],
      "execution_count": 128,
      "outputs": [
        {
          "output_type": "execute_result",
          "data": {
            "text/plain": [
              "'new jersey is sometimes quiet during autumn , and it is snowy in april .'"
            ]
          },
          "metadata": {
            "tags": []
          },
          "execution_count": 128
        }
      ]
    },
    {
      "cell_type": "code",
      "metadata": {
        "id": "EVlBvOosNJKf",
        "colab_type": "code",
        "colab": {}
      },
      "source": [
        ""
      ],
      "execution_count": 0,
      "outputs": []
    }
  ]
}